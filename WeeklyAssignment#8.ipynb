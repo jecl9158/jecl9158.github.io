{
 "cells": [
  {
   "cell_type": "markdown",
   "metadata": {},
   "source": [
    "## Data filtering and aggregation \n",
    " \n",
    "For weekly assginment 8 I took the denver policing data and decided to count what kinds of stops were made. \n",
    "\n",
    "Starting off I opened the file and read it in so that I could aggreagate and sort the data. "
   ]
  },
  {
   "cell_type": "code",
   "execution_count": 9,
   "metadata": {},
   "outputs": [],
   "source": [
    "import csv\n",
    "def make_data_point(line, header):\n",
    "    output = {}\n",
    "    for index, header_item in enumerate(header):\n",
    "        output[header_item] = line[index]\n",
    "    return output\n",
    "\n",
    "with open(\"denver-1.nov.csv\") as inf:\n",
    "    reader = csv.reader(inf)\n",
    "    header = next(reader)\n",
    "    all_data = []\n",
    "    for line in reader:\n",
    "        all_data.append(make_data_point(line, header))\n",
    "        \n",
    "# all_data\n",
    "# I did print out the data but that was way too long. "
   ]
  },
  {
   "cell_type": "markdown",
   "metadata": {},
   "source": [
    "### Aggregation\n",
    "\n",
    "After reading in the data I go through each type of stop made, I counted up the total number of stops per each type. Witht he help of defaultdict I was abble to count each type and then to seperate them. These are the data points that I will be using. "
   ]
  },
  {
   "cell_type": "code",
   "execution_count": 4,
   "metadata": {},
   "outputs": [
    {
     "data": {
      "text/plain": [
       "defaultdict(int, {'vehicular': 4241, 'pedestrian': 2124})"
      ]
     },
     "execution_count": 4,
     "metadata": {},
     "output_type": "execute_result"
    }
   ],
   "source": [
    "#For this assignemnt let's findout how many of each type of data point there is. Like what type of input. \n",
    "# we will find this by looking at all of the unique keys for 'type'\n",
    "from collections import defaultdict\n",
    "\n",
    "type_counter = defaultdict(int)\n",
    "dataByType = defaultdict(list)\n",
    "totalOfEachType = {} \n",
    "\n",
    "for point in all_data:\n",
    "    type_counter[point['type']] +=1\n",
    "    dataByType[point['type']].append(point)\n",
    "    \n",
    "    \n",
    "type_counter\n",
    "\n",
    "#wow that is really helpful"
   ]
  },
  {
   "cell_type": "markdown",
   "metadata": {},
   "source": [
    "### Output Code\n",
    "\n",
    "To make it easier to put this data analysis into a chart.js I output the code as \"dpdoutput.json\" so that I am able to read it in as a json script and to insert it into the HTML file. "
   ]
  },
  {
   "cell_type": "code",
   "execution_count": 7,
   "metadata": {},
   "outputs": [],
   "source": [
    "#now I am going to output this code so I can reference that file while \n",
    "# I put it into a chart. \n",
    "import json\n",
    "with open(\"dpdoutput.json\",\"w\") as of: \n",
    "    of.write(json.dumps(type_counter))"
   ]
  }
 ],
 "metadata": {
  "kernelspec": {
   "display_name": "Python 3",
   "language": "python",
   "name": "python3"
  },
  "language_info": {
   "codemirror_mode": {
    "name": "ipython",
    "version": 3
   },
   "file_extension": ".py",
   "mimetype": "text/x-python",
   "name": "python",
   "nbconvert_exporter": "python",
   "pygments_lexer": "ipython3",
   "version": "3.8.5"
  }
 },
 "nbformat": 4,
 "nbformat_minor": 4
}
